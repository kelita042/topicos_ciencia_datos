{
  "nbformat": 4,
  "nbformat_minor": 0,
  "metadata": {
    "colab": {
      "name": "Untitled",
      "provenance": [],
      "collapsed_sections": []
    },
    "kernelspec": {
      "name": "python3",
      "display_name": "Python 3"
    }
  },
  "cells": [
    {
      "cell_type": "markdown",
      "metadata": {
        "id": "l0nqXdrJvU33"
      },
      "source": [
        "# Statistical Summary"
      ]
    },
    {
      "cell_type": "code",
      "metadata": {
        "id": "RdhtmQaQvl9A"
      },
      "source": [
        "from pandas import read_csv\n",
        "from pandas import set_option\n",
        "url = \"https://raw.githubusercontent.com/ricardo-rios/topicos_ciencia_datos/master/unidad_ii/intro_ml/chapter4/pima-indians-diabetes.data.csv\"\n",
        "names = ['preg', 'plas', 'pres', 'skin', 'test', 'mass', 'pedi', 'age', 'class']\n",
        "data = read_csv(url, names=names)\n",
        "set_option('display.width' , 100)\n",
        "set_option('precision' , 3)\n",
        "description = data.describe()\n",
        "print(description)"
      ],
      "execution_count": null,
      "outputs": []
    }
  ]
}