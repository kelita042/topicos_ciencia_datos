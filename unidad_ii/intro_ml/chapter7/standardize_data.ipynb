{
  "nbformat": 4,
  "nbformat_minor": 0,
  "metadata": {
    "colab": {
      "name": "Untitled0.ipynb",
      "provenance": [],
      "collapsed_sections": []
    },
    "kernelspec": {
      "name": "python3",
      "display_name": "Python 3"
    }
  },
  "cells": [
    {
      "cell_type": "markdown",
      "metadata": {
        "id": "FqPER_d1GD-s"
      },
      "source": [
        "# Standardize data (0 mean, 1 stdev)"
      ]
    },
    {
      "cell_type": "code",
      "metadata": {
        "id": "ymJnz2CoGEtT"
      },
      "source": [
        "from sklearn.preprocessing import StandardScaler\n",
        "from pandas import read_csv\n",
        "from numpy import set_printoptions"
      ],
      "execution_count": null,
      "outputs": []
    },
    {
      "cell_type": "code",
      "metadata": {
        "id": "pBKC-TSRGIC2"
      },
      "source": [
        "url = \"https://raw.githubusercontent.com/ricardo-rios/topicos_ciencia_datos/master/unidad_ii/intro_ml/chapter4/pima-indians-diabetes.data.csv\"\n",
        "names = ['preg', 'plas', 'pres', 'skin', 'test', 'mass', 'pedi', 'age', 'class']\n",
        "dataframe = read_csv(url, names=names)\n",
        "array = dataframe.values\n",
        "# separate array into input and output components\n",
        "X = array[:,0:8]\n",
        "Y = array[:,8]"
      ],
      "execution_count": null,
      "outputs": []
    },
    {
      "cell_type": "code",
      "metadata": {
        "id": "IeirJgoIGbP1"
      },
      "source": [
        "scaler = StandardScaler().fit(X)\n",
        "rescaledX = scaler.fit_transform(X)\n",
        "# summarize transformed data\n",
        "set_printoptions(precision=3)\n",
        "print(rescaledX[0:5,:])"
      ],
      "execution_count": null,
      "outputs": []
    },
    {
      "cell_type": "code",
      "metadata": {
        "id": "NORFBoWJ86Kc"
      },
      "source": [
        ""
      ],
      "execution_count": null,
      "outputs": []
    }
  ]
}