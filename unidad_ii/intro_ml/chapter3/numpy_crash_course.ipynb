{
  "nbformat": 4,
  "nbformat_minor": 0,
  "metadata": {
    "colab": {
      "name": "numpy_crash_course.ipynb",
      "provenance": [],
      "collapsed_sections": []
    },
    "kernelspec": {
      "name": "python3",
      "display_name": "Python 3"
    }
  },
  "cells": [
    {
      "cell_type": "markdown",
      "metadata": {
        "id": "IshVGM66-3E3"
      },
      "source": [
        "# numpy crash course"
      ]
    },
    {
      "cell_type": "code",
      "metadata": {
        "id": "5N9NpCzZ-3h3",
        "outputId": "8adc6727-ad57-4421-e9c3-236df116f607",
        "colab": {
          "base_uri": "https://localhost:8080/",
          "height": 52
        }
      },
      "source": [
        "# define an array\n",
        "import numpy\n",
        "mylist = [1, 2, 3]\n",
        "myarray = numpy.array(mylist)\n",
        "print(myarray)\n",
        "print(myarray.shape)\n"
      ],
      "execution_count": 1,
      "outputs": [
        {
          "output_type": "stream",
          "text": [
            "[1 2 3]\n",
            "(3,)\n"
          ],
          "name": "stdout"
        }
      ]
    },
    {
      "cell_type": "code",
      "metadata": {
        "id": "_R1SgCEx-6Bs",
        "outputId": "90ec73d4-b000-45e6-dec7-9709329a2cc2",
        "colab": {
          "base_uri": "https://localhost:8080/",
          "height": 139
        }
      },
      "source": [
        "# access values\n",
        "import numpy\n",
        "mylist = [[1, 2, 3], [3, 4, 5]]\n",
        "myarray = numpy.array(mylist)\n",
        "print(myarray)\n",
        "print(myarray.shape)\n",
        "print(\"First row: %s\" % myarray[0])\n",
        "print(\"Last row: %s\" % myarray[-1])\n",
        "print(\"Specific row and col: %s\" % myarray[0, 2])\n",
        "print(\"Whole col: %s\" % myarray[:, 2])\n"
      ],
      "execution_count": 2,
      "outputs": [
        {
          "output_type": "stream",
          "text": [
            "[[1 2 3]\n",
            " [3 4 5]]\n",
            "(2, 3)\n",
            "First row: [1 2 3]\n",
            "Last row: [3 4 5]\n",
            "Specific row and col: 3\n",
            "Whole col: [3 5]\n"
          ],
          "name": "stdout"
        }
      ]
    },
    {
      "cell_type": "code",
      "metadata": {
        "id": "qngxXcRp-9gl",
        "outputId": "b74a0ca3-77cd-4dfe-f6ab-89b503e64089",
        "colab": {
          "base_uri": "https://localhost:8080/",
          "height": 52
        }
      },
      "source": [
        "# arithmetic\n",
        "import numpy\n",
        "myarray1 = numpy.array([2, 2, 2])\n",
        "myarray2 = numpy.array([3, 3, 3])\n",
        "print(\"Addition: %s\" % (myarray1 + myarray2))\n",
        "print(\"Multiplication: %s\" % (myarray1 * myarray2))\n"
      ],
      "execution_count": 3,
      "outputs": [
        {
          "output_type": "stream",
          "text": [
            "Addition: [5 5 5]\n",
            "Multiplication: [6 6 6]\n"
          ],
          "name": "stdout"
        }
      ]
    },
    {
      "cell_type": "code",
      "metadata": {
        "id": "iMdO7mx1-_2Z"
      },
      "source": [
        ""
      ],
      "execution_count": null,
      "outputs": []
    }
  ]
}