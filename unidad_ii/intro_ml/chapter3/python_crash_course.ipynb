{
  "nbformat": 4,
  "nbformat_minor": 0,
  "metadata": {
    "colab": {
      "name": "python_crash_course.ipynb",
      "provenance": [],
      "collapsed_sections": []
    },
    "kernelspec": {
      "name": "python3",
      "display_name": "Python 3"
    }
  },
  "cells": [
    {
      "cell_type": "markdown",
      "metadata": {
        "id": "tIrxdvpM7x3c"
      },
      "source": [
        "# Python Crash Course\n",
        "\n",
        "# Assignment\n",
        "# ==========\n",
        "\n",
        "# Strings"
      ]
    },
    {
      "cell_type": "code",
      "metadata": {
        "id": "biLen5Qa7zES"
      },
      "source": [
        "data = 'hello world'\n",
        "print(data[0])\n",
        "print(len(data))\n",
        "print(data)\n"
      ],
      "execution_count": null,
      "outputs": []
    },
    {
      "cell_type": "markdown",
      "metadata": {
        "id": "YLRiBa2R8Lvs"
      },
      "source": [
        "# Numbers"
      ]
    },
    {
      "cell_type": "code",
      "metadata": {
        "id": "vrbZt_227-nF",
        "outputId": "ee0489cb-d824-4568-978d-28c86a822c1b",
        "colab": {
          "base_uri": "https://localhost:8080/",
          "height": 52
        }
      },
      "source": [
        "value = 123.1\n",
        "print(value)\n",
        "value = 10\n",
        "print(value)\n"
      ],
      "execution_count": 3,
      "outputs": [
        {
          "output_type": "stream",
          "text": [
            "123.1\n",
            "10\n"
          ],
          "name": "stdout"
        }
      ]
    },
    {
      "cell_type": "markdown",
      "metadata": {
        "id": "TfbqThPU8R-j"
      },
      "source": [
        "# Boolean"
      ]
    },
    {
      "cell_type": "code",
      "metadata": {
        "id": "YItAdrl58PnA",
        "outputId": "8bb76a7b-6b8f-42c3-ffbe-bb03defe93a8",
        "colab": {
          "base_uri": "https://localhost:8080/",
          "height": 34
        }
      },
      "source": [
        "a = True\n",
        "b = False\n",
        "print(a, b)\n"
      ],
      "execution_count": 4,
      "outputs": [
        {
          "output_type": "stream",
          "text": [
            "True False\n"
          ],
          "name": "stdout"
        }
      ]
    },
    {
      "cell_type": "markdown",
      "metadata": {
        "id": "uodbznGK8XMU"
      },
      "source": [
        "# Multiple Assignment\n"
      ]
    },
    {
      "cell_type": "code",
      "metadata": {
        "id": "vc_tn8RT8U0P",
        "outputId": "e3230181-6262-4452-8abb-f12013035d30",
        "colab": {
          "base_uri": "https://localhost:8080/",
          "height": 34
        }
      },
      "source": [
        "a, b, c = 1, 2, 3\n",
        "print(a, b, c)\n"
      ],
      "execution_count": 5,
      "outputs": [
        {
          "output_type": "stream",
          "text": [
            "1 2 3\n"
          ],
          "name": "stdout"
        }
      ]
    },
    {
      "cell_type": "markdown",
      "metadata": {
        "id": "X5n6837m8bxY"
      },
      "source": [
        "# No value\n"
      ]
    },
    {
      "cell_type": "code",
      "metadata": {
        "id": "OUksXNiL8ZMC",
        "outputId": "a6ff7e7e-0c46-4f93-f73d-8240d6d72b67",
        "colab": {
          "base_uri": "https://localhost:8080/",
          "height": 34
        }
      },
      "source": [
        "a = None\n",
        "print(a)\n"
      ],
      "execution_count": 6,
      "outputs": [
        {
          "output_type": "stream",
          "text": [
            "None\n"
          ],
          "name": "stdout"
        }
      ]
    },
    {
      "cell_type": "markdown",
      "metadata": {
        "id": "xljqXFtt8g-N"
      },
      "source": [
        "# Flow Control\n",
        "# ============\n",
        "\n",
        "# If-Then-Else\n"
      ]
    },
    {
      "cell_type": "code",
      "metadata": {
        "id": "iGtFJ3q58eOf",
        "outputId": "d237f3bc-6be5-4800-dcea-592a88e08472",
        "colab": {
          "base_uri": "https://localhost:8080/",
          "height": 34
        }
      },
      "source": [
        "value = 99\n",
        "if value >= 99:\n",
        "\tprint('That is fast')\n",
        "elif value > 200:\n",
        "\tprint('That is too fast')\n",
        "else:\n",
        "\tprint('That that is safe')\n"
      ],
      "execution_count": 7,
      "outputs": [
        {
          "output_type": "stream",
          "text": [
            "That is fast\n"
          ],
          "name": "stdout"
        }
      ]
    },
    {
      "cell_type": "markdown",
      "metadata": {
        "id": "Kx_VJOuo8xRM"
      },
      "source": [
        "# For-Loop\n"
      ]
    },
    {
      "cell_type": "code",
      "metadata": {
        "id": "7ARTE5Uk8jqT",
        "outputId": "e344371a-382e-472a-dad1-bc30589e555c",
        "colab": {
          "base_uri": "https://localhost:8080/",
          "height": 191
        }
      },
      "source": [
        "for i in range(10):\n",
        "\tprint(i)\n"
      ],
      "execution_count": 8,
      "outputs": [
        {
          "output_type": "stream",
          "text": [
            "0\n",
            "1\n",
            "2\n",
            "3\n",
            "4\n",
            "5\n",
            "6\n",
            "7\n",
            "8\n",
            "9\n"
          ],
          "name": "stdout"
        }
      ]
    },
    {
      "cell_type": "markdown",
      "metadata": {
        "id": "1EJtAOJT84i_"
      },
      "source": [
        "# While-Loop"
      ]
    },
    {
      "cell_type": "code",
      "metadata": {
        "id": "JdlaVsHn807B",
        "outputId": "183d9220-51ee-4aa8-8737-6a773f87bca0",
        "colab": {
          "base_uri": "https://localhost:8080/",
          "height": 191
        }
      },
      "source": [
        "i = 0\n",
        "while i < 10:\n",
        "\tprint(i)\n",
        "\ti += 1\n"
      ],
      "execution_count": 9,
      "outputs": [
        {
          "output_type": "stream",
          "text": [
            "0\n",
            "1\n",
            "2\n",
            "3\n",
            "4\n",
            "5\n",
            "6\n",
            "7\n",
            "8\n",
            "9\n"
          ],
          "name": "stdout"
        }
      ]
    },
    {
      "cell_type": "markdown",
      "metadata": {
        "id": "ZMlLQF948802"
      },
      "source": [
        "# Data Structures\n",
        "# ===============\n",
        "\n",
        "# Tuple (cannot change)\n"
      ]
    },
    {
      "cell_type": "code",
      "metadata": {
        "id": "OgEnU78B86XC",
        "outputId": "27c324da-9379-4b99-a9c6-5dcef8e44953",
        "colab": {
          "base_uri": "https://localhost:8080/",
          "height": 34
        }
      },
      "source": [
        "a = (1, 2, 3)\n",
        "print(a)\n"
      ],
      "execution_count": 10,
      "outputs": [
        {
          "output_type": "stream",
          "text": [
            "(1, 2, 3)\n"
          ],
          "name": "stdout"
        }
      ]
    },
    {
      "cell_type": "markdown",
      "metadata": {
        "id": "5tnpAef09Bsr"
      },
      "source": [
        "# Lists"
      ]
    },
    {
      "cell_type": "code",
      "metadata": {
        "id": "fdcgEWSg8_Ti",
        "outputId": "43228ed0-362d-41bb-9907-091cf128702c",
        "colab": {
          "base_uri": "https://localhost:8080/",
          "height": 121
        }
      },
      "source": [
        "mylist = [1, 2, 3]\n",
        "print(\"Zeroth Value: %d\" % mylist[0])\n",
        "mylist.append(4)\n",
        "print(\"List Length: %d\" % len(mylist))\n",
        "for value in mylist:\n",
        "\tprint(value)\n"
      ],
      "execution_count": 11,
      "outputs": [
        {
          "output_type": "stream",
          "text": [
            "Zeroth Value: 1\n",
            "List Length: 4\n",
            "1\n",
            "2\n",
            "3\n",
            "4\n"
          ],
          "name": "stdout"
        }
      ]
    },
    {
      "cell_type": "markdown",
      "metadata": {
        "id": "7fv-cfkv9GaO"
      },
      "source": [
        "# Dictionaries"
      ]
    },
    {
      "cell_type": "code",
      "metadata": {
        "id": "jbo2qJrd9EB3",
        "outputId": "4cfc6a0f-44a2-4700-eb82-02c310a488c0",
        "colab": {
          "base_uri": "https://localhost:8080/",
          "height": 139
        }
      },
      "source": [
        "mydict = {'a': 1, 'b': 2, 'c': 3}\n",
        "print(\"A value: %d\" % mydict['a'])\n",
        "mydict['a'] = 11\n",
        "print(\"A value: %d\" % mydict['a'])\n",
        "print(\"Keys: %s\" % mydict.keys())\n",
        "print(\"Values: %s\" % mydict.values())\n",
        "for key in mydict.keys():\n",
        "\tprint(mydict[key])\n"
      ],
      "execution_count": 12,
      "outputs": [
        {
          "output_type": "stream",
          "text": [
            "A value: 1\n",
            "A value: 11\n",
            "Keys: dict_keys(['a', 'b', 'c'])\n",
            "Values: dict_values([11, 2, 3])\n",
            "11\n",
            "2\n",
            "3\n"
          ],
          "name": "stdout"
        }
      ]
    },
    {
      "cell_type": "markdown",
      "metadata": {
        "id": "k21XI5dG9NBm"
      },
      "source": [
        "# Functions\n",
        "# ===========\n",
        "\n",
        "# Sum function\n"
      ]
    },
    {
      "cell_type": "code",
      "metadata": {
        "id": "fLX_FVAx9IxS",
        "outputId": "8d16b8ab-79e0-43cb-cde5-34bdbf6d2856",
        "colab": {
          "base_uri": "https://localhost:8080/",
          "height": 34
        }
      },
      "source": [
        "def mysum(x, y):\n",
        "\treturn x + y\n",
        "\n",
        "# Test sum function\n",
        "mysum(1, 3)\n"
      ],
      "execution_count": 13,
      "outputs": [
        {
          "output_type": "execute_result",
          "data": {
            "text/plain": [
              "4"
            ]
          },
          "metadata": {
            "tags": []
          },
          "execution_count": 13
        }
      ]
    },
    {
      "cell_type": "code",
      "metadata": {
        "id": "JNV0GpBC9PoF"
      },
      "source": [
        ""
      ],
      "execution_count": null,
      "outputs": []
    }
  ]
}