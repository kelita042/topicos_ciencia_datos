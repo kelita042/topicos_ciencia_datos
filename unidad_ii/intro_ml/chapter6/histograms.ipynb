{
  "nbformat": 4,
  "nbformat_minor": 0,
  "metadata": {
    "colab": {
      "name": "Untitled0.ipynb",
      "provenance": [],
      "collapsed_sections": []
    },
    "kernelspec": {
      "name": "python3",
      "display_name": "Python 3"
    }
  },
  "cells": [
    {
      "cell_type": "markdown",
      "metadata": {
        "id": "FqPER_d1GD-s"
      },
      "source": [
        "# Univariate Histograms"
      ]
    },
    {
      "cell_type": "code",
      "metadata": {
        "id": "ymJnz2CoGEtT"
      },
      "source": [
        "from matplotlib import pyplot\n",
        "from pandas import read_csv"
      ],
      "execution_count": null,
      "outputs": []
    },
    {
      "cell_type": "code",
      "metadata": {
        "id": "pBKC-TSRGIC2"
      },
      "source": [
        "url = \"https://raw.githubusercontent.com/ricardo-rios/topicos_ciencia_datos/master/unidad_ii/intro_ml/chapter4/pima-indians-diabetes.data.csv\"\n",
        "names = ['preg', 'plas', 'pres', 'skin', 'test', 'mass', 'pedi', 'age', 'class']\n",
        "data = read_csv(url, names=names)\n",
        "data.hist()\n",
        "pyplot.show()"
      ],
      "execution_count": null,
      "outputs": []
    },
    {
      "cell_type": "code",
      "metadata": {
        "id": "IeirJgoIGbP1"
      },
      "source": [
        ""
      ],
      "execution_count": null,
      "outputs": []
    }
  ]
}