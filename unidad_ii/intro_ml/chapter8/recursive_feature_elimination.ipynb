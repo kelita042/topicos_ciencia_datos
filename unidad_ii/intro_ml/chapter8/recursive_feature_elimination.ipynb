{
  "nbformat": 4,
  "nbformat_minor": 0,
  "metadata": {
    "colab": {
      "name": "Untitled0.ipynb",
      "provenance": [],
      "collapsed_sections": []
    },
    "kernelspec": {
      "name": "python3",
      "display_name": "Python 3"
    }
  },
  "cells": [
    {
      "cell_type": "markdown",
      "metadata": {
        "id": "FqPER_d1GD-s"
      },
      "source": [
        "# Feature Selection with RFE\n"
      ]
    },
    {
      "cell_type": "code",
      "metadata": {
        "id": "ymJnz2CoGEtT"
      },
      "source": [
        "from pandas import read_csv\n",
        "from sklearn.feature_selection import RFE\n",
        "from sklearn.linear_model import LogisticRegression"
      ],
      "execution_count": null,
      "outputs": []
    },
    {
      "cell_type": "code",
      "metadata": {
        "id": "pBKC-TSRGIC2"
      },
      "source": [
        "url = \"https://raw.githubusercontent.com/ricardo-rios/topicos_ciencia_datos/master/unidad_ii/intro_ml/chapter4/pima-indians-diabetes.data.csv\"\n",
        "names = ['preg', 'plas', 'pres', 'skin', 'test', 'mass', 'pedi', 'age', 'class']\n",
        "dataframe = read_csv(url, names=names)\n",
        "array = dataframe.values\n",
        "# separate array into input and output components\n",
        "X = array[:,0:8]\n",
        "Y = array[:,8]"
      ],
      "execution_count": null,
      "outputs": []
    },
    {
      "cell_type": "code",
      "metadata": {
        "id": "IeirJgoIGbP1"
      },
      "source": [
        "# feature extraction\n",
        "model = LogisticRegression(solver='liblinear')\n",
        "rfe = RFE(model, 3)\n",
        "fit = rfe.fit(X, Y)\n",
        "print(\"Num Features: %d\" % fit.n_features_)\n",
        "print(\"Selected Features: %s\" % fit.support_)\n",
        "print(\"Feature Ranking: %s\" % fit.ranking_)"
      ],
      "execution_count": null,
      "outputs": []
    },
    {
      "cell_type": "code",
      "metadata": {
        "id": "gNSj_aMlMNVb"
      },
      "source": [
        ""
      ],
      "execution_count": null,
      "outputs": []
    }
  ]
}