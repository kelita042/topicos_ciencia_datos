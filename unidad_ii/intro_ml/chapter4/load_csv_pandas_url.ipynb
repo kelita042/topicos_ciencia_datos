{
  "nbformat": 4,
  "nbformat_minor": 0,
  "metadata": {
    "colab": {
      "name": "Untitled2.ipynb",
      "provenance": [],
      "collapsed_sections": []
    },
    "kernelspec": {
      "name": "python3",
      "display_name": "Python 3"
    }
  },
  "cells": [
    {
      "cell_type": "markdown",
      "metadata": {
        "id": "l0nqXdrJvU33"
      },
      "source": [
        "# Load CSV using Pandas from URL"
      ]
    },
    {
      "cell_type": "code",
      "metadata": {
        "id": "NoWrcZatu_Tp"
      },
      "source": [
        "from pandas import read_csv\n",
        "url = 'https://raw.githubusercontent.com/ricardo-rios/topicos_ciencia_datos/master/unidad_ii/intro_ml/chapter4/pima-indians-diabetes.data.csv'\n",
        "names = [ 'preg' , 'plas' , 'pres' , 'skin' , 'test' , 'mass' , 'pedi' , 'age' , 'class' ]\n",
        "data = read_csv(url, names=names)\n",
        "print(data.shape)"
      ],
      "execution_count": null,
      "outputs": []
    },
    {
      "cell_type": "code",
      "metadata": {
        "id": "RdhtmQaQvl9A"
      },
      "source": [
        ""
      ],
      "execution_count": null,
      "outputs": []
    }
  ]
}